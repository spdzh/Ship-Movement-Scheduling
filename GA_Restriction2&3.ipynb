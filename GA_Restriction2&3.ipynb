{
  "nbformat": 4,
  "nbformat_minor": 0,
  "metadata": {
    "colab": {
      "name": "GA_Restriction2&3.ipynb",
      "provenance": [],
      "collapsed_sections": [],
      "authorship_tag": "ABX9TyN+61OAg4f0aox9a5jJ79vt",
      "include_colab_link": true
    },
    "kernelspec": {
      "name": "python3",
      "display_name": "Python 3"
    }
  },
  "cells": [
    {
      "cell_type": "markdown",
      "metadata": {
        "id": "view-in-github",
        "colab_type": "text"
      },
      "source": [
        "<a href=\"https://colab.research.google.com/github/spdzh/Ship-Movement-Scheduling/blob/main/GA_Restriction2%263.ipynb\" target=\"_parent\"><img src=\"https://colab.research.google.com/assets/colab-badge.svg\" alt=\"Open In Colab\"/></a>"
      ]
    },
    {
      "cell_type": "markdown",
      "metadata": {
        "id": "V0-RQutkC0ZI"
      },
      "source": [
        "Import Packages"
      ]
    },
    {
      "cell_type": "code",
      "metadata": {
        "id": "BQNa9w3xKVHw"
      },
      "source": [
        "pip install pulp"
      ],
      "execution_count": null,
      "outputs": []
    },
    {
      "cell_type": "code",
      "metadata": {
        "id": "ML-kUgSACxLJ"
      },
      "source": [
        "import pandas as pd\n",
        "import numpy as np\n",
        "from datetime import datetime\n",
        "from numpy.random import default_rng\n",
        "import time\n",
        "import heapq\n",
        "from pulp import GLPK\n",
        "from pulp import LpMinimize, LpProblem, LpStatus, lpSum, LpVariable"
      ],
      "execution_count": 2,
      "outputs": []
    },
    {
      "cell_type": "markdown",
      "metadata": {
        "id": "DvV33oPgCrJd"
      },
      "source": [
        "Import Data"
      ]
    },
    {
      "cell_type": "code",
      "metadata": {
        "id": "9Udb73ik5RkE"
      },
      "source": [
        "dataset = pd.read_csv('Real_20.csv')"
      ],
      "execution_count": 3,
      "outputs": []
    },
    {
      "cell_type": "markdown",
      "metadata": {
        "id": "8xZYb_i-DBck"
      },
      "source": [
        "change date to number"
      ]
    },
    {
      "cell_type": "code",
      "metadata": {
        "id": "mhVM8n0PDISM"
      },
      "source": [
        "def TimetoNum(x):\n",
        "    utc_time = datetime.strptime(x, '%m/%d/%Y %H:%M')\n",
        "    x= datetime.strftime(utc_time, '%Y-%m-%d %H:%M')\n",
        "    y=datetime.fromisoformat(x).timestamp()\n",
        "    return y"
      ],
      "execution_count": 4,
      "outputs": []
    },
    {
      "cell_type": "code",
      "metadata": {
        "id": "uQvClmi7JNXh"
      },
      "source": [
        "dataset[\"PilotOrderTime\"]=dataset[\"PilotOrderTime\"].apply(TimetoNum)"
      ],
      "execution_count": 5,
      "outputs": []
    },
    {
      "cell_type": "markdown",
      "metadata": {
        "id": "RaNX4YQx4lDO"
      },
      "source": [
        "Fitness Function"
      ]
    },
    {
      "cell_type": "code",
      "metadata": {
        "id": "nVAsGLg5nCsj"
      },
      "source": [
        "def Fitness(dataset, range1):\n",
        "    model = LpProblem(name=\"small-problem\", sense=LpMinimize)\n",
        "        #Scheduled= dataset[\"PilotOrderTime\"].copy()\n",
        "    Scheduled = {i: LpVariable(name=('Scheduled %i' % i), lowBound=dataset[\"PilotOrderTime\"][i]) for i in range(len(dataset))}\n",
        "    x = {j: LpVariable(name=f\"x{j}\", lowBound=0, upBound = 1, cat=\"Integer\") for j in range(100)}\n",
        "    y = {o: LpVariable(name=f\"y{o}\", lowBound=0, upBound = 1, cat=\"Integer\") for o in range(100)}\n",
        "\n",
        "    l=0            \n",
        "    k=0\n",
        "    kk=0\n",
        "    m=10000000\n",
        "    for i in range1:\n",
        "        model += Scheduled[i]>= dataset[\"PilotOrderTime\"][i]\n",
        "        model += Scheduled[i]<= 1533083200+m*y[kk]\n",
        "        model += Scheduled[i]>= 1533084400+m*(y[kk]-1)\n",
        "        kk=kk+1\n",
        "        l=l+1\n",
        "        if (dataset[\"d4\"][i]>0):\n",
        "            if ((dataset[\"Type\"][i]== 2 and dataset[\"Beam\"][i]>=120)or (dataset[\"Beam\"][i]>=150)):\n",
        "                model += Scheduled[i]>= 1533104500\n",
        "                model += Scheduled[i]<= 1533146400\n",
        "      \n",
        "        for j in range1[l:]:\n",
        "            if (dataset[\"Direction\"][i]==1 and (dataset[\"Direction\"][j]!= dataset[\"Direction\"][i])):\n",
        "                if ((dataset[\"Beam\"][i]+dataset[\"Beam\"][j]>= 272) and (dataset[\"d2\"][i]>0 and dataset[\"d2\"][j]> dataset[\"d2\"][i])):\n",
        "                    LB1= Scheduled[i]+ (dataset[\"d1\"][i]/dataset[\"Speed\"][i])*60*60\n",
        "                    LB2= (dataset[\"d2\"][j]/dataset[\"Speed\"][j])*60*60\n",
        "                    UB1= LB1+ (dataset[\"d2\"][i]/dataset[\"Speed\"][i])*60*60\n",
        "                    UB2= ((dataset[\"d2\"][j]-dataset[\"d2\"][i])/dataset[\"Speed\"][j])*60*60\n",
        "                    model+= Scheduled[j]<=(LB1-LB2)+m*x[k] \n",
        "                    model+= Scheduled[j]>=(UB1-UB2)+m*(x[k]-1)\n",
        "                    k=k+1\n",
        "                                            \n",
        "                    \n",
        "                if ((dataset[\"Beam\"][i]+dataset[\"Beam\"][j]>= 272) and (dataset[\"d2\"][i]>0 and dataset[\"d2\"][j]<= dataset[\"d2\"][i])):\n",
        "                    LB1= Scheduled[i]+(dataset[\"d1\"][i]/dataset[\"Speed\"][i])*60*60\n",
        "                    LB2= (dataset[\"d2\"][j]/dataset[\"Speed\"][j])*60*60\n",
        "                    UB1= LB1+ (dataset[\"d2\"][j]/dataset[\"Speed\"][i])*60*60\n",
        "                    UB2= 0\n",
        "                    model+= Scheduled[j]<=(LB1-LB2)+m*x[k] \n",
        "                    model+= Scheduled[j]>=(UB1-UB2)+m*(x[k]-1)\n",
        "                    k=k+1\n",
        "                    \n",
        "                if ((dataset[\"Beam\"][i]>=106 or dataset[\"Beam\"][j]>= 106) and (dataset[\"d4\"][i]>0 and dataset[\"d4\"][j]> dataset[\"d4\"][i])):\n",
        "                    LB1= Scheduled[i]+ (dataset[\"d3\"][i]/dataset[\"Speed\"][i])*60*60\n",
        "                    LB2= (dataset[\"d4\"][j]/dataset[\"Speed\"][j])*60*60\n",
        "                    UB1= LB1+ (dataset[\"d4\"][i]/dataset[\"Speed\"][i])*60*60\n",
        "                    UB2= ((dataset[\"d4\"][j]-dataset[\"d4\"][i])/dataset[\"Speed\"][j])*60*60\n",
        "                    model+= Scheduled[j]<=(LB1-LB2)+m*x[k] \n",
        "                    model+= Scheduled[j]>=(UB1-UB2)+m*(x[k]-1)\n",
        "                    k=k+1\n",
        "                                            \n",
        "                    \n",
        "                if ((dataset[\"Beam\"][i]>=106 or dataset[\"Beam\"][j]>= 106) and (dataset[\"d4\"][i]>0 and dataset[\"d4\"][j]<= dataset[\"d4\"][i])):\n",
        "                    LB1= Scheduled[i]+(dataset[\"d3\"][i]/dataset[\"Speed\"][i])*60*60\n",
        "                    LB2= (dataset[\"d4\"][j]/dataset[\"Speed\"][j])*60*60\n",
        "                    UB1= LB1+ (dataset[\"d4\"][j]/dataset[\"Speed\"][i])*60*60\n",
        "                    UB2= 0\n",
        "                    model+= Scheduled[j]<=(LB1-LB2)+m*x[k] \n",
        "                    model+= Scheduled[j]>=(UB1-UB2)+m*(x[k]-1)\n",
        "                    k=k+1     \n",
        "                            \n",
        "            if (dataset[\"Direction\"][i]==0 and (dataset[\"Direction\"][j]!= dataset[\"Direction\"][i])):\n",
        "                if ((dataset[\"Beam\"][i]+dataset[\"Beam\"][j]>= 272) and (dataset[\"d2\"][i]>0 and dataset[\"d2\"][j]> dataset[\"d2\"][i])):\n",
        "                    LB1= Scheduled[i]\n",
        "                    LB2= ((dataset[\"d1\"][j]+dataset[\"d2\"][i])/dataset[\"Speed\"][j])*60*60\n",
        "                    UB1= LB1+ (dataset[\"d2\"][i]/dataset[\"Speed\"][i])*60*60\n",
        "                    UB2= (dataset[\"d1\"][j]/dataset[\"Speed\"][j])*60*60\n",
        "                    model+= Scheduled[j]<=(LB1-LB2)+m*x[k] \n",
        "                    model+= Scheduled[j]>=(UB1-UB2)+m*(x[k]-1)\n",
        "                    k=k+1\n",
        "                            \n",
        "                    \n",
        "                if ((dataset[\"Beam\"][i]+dataset[\"Beam\"][j]>= 272) and (dataset[\"d2\"][i]>0 and dataset[\"d2\"][j]<= dataset[\"d2\"][i])):\n",
        "                    LB1= Scheduled[i]+((dataset[\"d2\"][i]-dataset[\"d2\"][j])/dataset[\"Speed\"][i])*60*60\n",
        "                    LB2= ((dataset[\"d1\"][j]+dataset[\"d2\"][j])/dataset[\"Speed\"][j])*60*60\n",
        "                    UB1= LB1+ (dataset[\"d2\"][j]/dataset[\"Speed\"][i])*60*60\n",
        "                    UB2= (dataset[\"d1\"][j]/dataset[\"Speed\"][j])*60*60\n",
        "                    model+= Scheduled[j]<=(LB1-LB2)+m*x[k] \n",
        "                    model+= Scheduled[j]>=(UB1-UB2)+m*(x[k]-1)\n",
        "                    k=k+1\n",
        "\n",
        "                if ((dataset[\"Beam\"][i]>=106 or dataset[\"Beam\"][j]>= 106) and (dataset[\"d4\"][i]>0 and dataset[\"d4\"][j]> dataset[\"d4\"][i])):\n",
        "                    LB1= Scheduled[i]\n",
        "                    LB2= ((dataset[\"d3\"][j]+dataset[\"d4\"][i])/dataset[\"Speed\"][j])*60*60\n",
        "                    UB1= LB1+ (dataset[\"d4\"][i]/dataset[\"Speed\"][i])*60*60\n",
        "                    UB2= (dataset[\"d3\"][j]/dataset[\"Speed\"][j])*60*60\n",
        "                    model+= Scheduled[j]<=(LB1-LB2)+m*x[k] \n",
        "                    model+= Scheduled[j]>=(UB1-UB2)+m*(x[k]-1)\n",
        "                    k=k+1\n",
        "                            \n",
        "                    \n",
        "                if ((dataset[\"Beam\"][i]>=106 or dataset[\"Beam\"][j]>= 106) and (dataset[\"d4\"][i]>0 and dataset[\"d4\"][j]<= dataset[\"d4\"][i])):\n",
        "                    LB1= Scheduled[i]+((dataset[\"d4\"][i]-dataset[\"d4\"][j])/dataset[\"Speed\"][i])*60*60\n",
        "                    LB2= ((dataset[\"d3\"][j]+dataset[\"d4\"][j])/dataset[\"Speed\"][j])*60*60\n",
        "                    UB1= LB1+ (dataset[\"d4\"][j]/dataset[\"Speed\"][i])*60*60\n",
        "                    UB2= (dataset[\"d3\"][j]/dataset[\"Speed\"][j])*60*60\n",
        "                    model+= Scheduled[j]<=(LB1-LB2)+m*x[k] \n",
        "                    model+= Scheduled[j]>=(UB1-UB2)+m*(x[k]-1)\n",
        "                    k=k+1\n",
        "    \n",
        "    xy= lpSum(Scheduled)\n",
        "    yx= lpSum(dataset[\"PilotOrderTime\"])\n",
        "    model += xy-yx\n",
        "    status = model.solve()\n",
        "    fitness= model.objective.value()\n",
        "    scheme= model.variables()\n",
        "\n",
        "    return (fitness, scheme)\n"
      ],
      "execution_count": 6,
      "outputs": []
    },
    {
      "cell_type": "code",
      "metadata": {
        "colab": {
          "base_uri": "https://localhost:8080/"
        },
        "id": "aIEohh3swLH4",
        "outputId": "f8f31c02-7db9-4a5e-d90c-4738cf104226"
      },
      "source": [
        "import datetime\n",
        "datetime.datetime.fromtimestamp(1533146400)"
      ],
      "execution_count": 7,
      "outputs": [
        {
          "output_type": "execute_result",
          "data": {
            "text/plain": [
              "datetime.datetime(2018, 8, 1, 18, 0)"
            ]
          },
          "metadata": {
            "tags": []
          },
          "execution_count": 7
        }
      ]
    },
    {
      "cell_type": "code",
      "metadata": {
        "id": "93Hp3fMjT99I"
      },
      "source": [
        "print(model)\n",
        "print(f\"status: {model.status}, {LpStatus[model.status]}\")\n",
        "\n",
        "print(f\"objective: {model.objective.value()}\")\n",
        "\n",
        "for name, constraint in model.constraints.items():\n",
        "    print(f\"{name}: {constraint.value()}\")\n",
        "\n",
        "for var in model.variables():\n",
        "    print(f\"{var.name}: {var.value()}\")"
      ],
      "execution_count": null,
      "outputs": []
    },
    {
      "cell_type": "markdown",
      "metadata": {
        "id": "o8zpvIo0a072"
      },
      "source": [
        "Generating population"
      ]
    },
    {
      "cell_type": "code",
      "metadata": {
        "id": "RFYqCcI9a4Bj"
      },
      "source": [
        "rng = default_rng()\n",
        "population=[]\n",
        "\n",
        "for i in range(12):\n",
        "    numbers = np.array(rng.choice(len(dataset), size=len(dataset), replace=False))\n",
        "    population.append(numbers)"
      ],
      "execution_count": 9,
      "outputs": []
    },
    {
      "cell_type": "markdown",
      "metadata": {
        "id": "T7Boqny1AEXl"
      },
      "source": [
        "Mutation"
      ]
    },
    {
      "cell_type": "code",
      "metadata": {
        "id": "L5LjlG9RAF3Y"
      },
      "source": [
        "def mutation(dataset, x):\n",
        "    rand1= np.random.randint(0, len(dataset))\n",
        "    rand2= np.random.randint(rand1, len(dataset))\n",
        "    y= x.copy()\n",
        "    y[rand1]= x[rand2].copy()\n",
        "    y[rand2]= x[rand1].copy()\n",
        "    return y"
      ],
      "execution_count": 10,
      "outputs": []
    },
    {
      "cell_type": "markdown",
      "metadata": {
        "id": "-NfXMUIx-fVc"
      },
      "source": [
        "Cross-Over"
      ]
    },
    {
      "cell_type": "code",
      "metadata": {
        "id": "GAOmoElM-kbs"
      },
      "source": [
        "def crossover(dataset, population):\n",
        "    offspring= []\n",
        "    for i in range(4):\n",
        "        rand1= np.random.randint(0, len(dataset))\n",
        "        rand2= np.random.randint(rand1, len(dataset))\n",
        "        x=population[i].copy()\n",
        "        x[0:(len(dataset)-rand2)]= population[i][rand2:].copy()\n",
        "        x[(len(dataset)-rand2):(len(dataset)-rand2)+(rand2-rand1)]= population[i][rand1:rand2].copy()\n",
        "        x[(len(dataset)-rand2)+(rand2-rand1):]= population[i][0:rand1].copy()\n",
        "        rad= np.random.rand()\n",
        "        if (rad<0.1):\n",
        "            x=mutation(dataset, x)\n",
        "        offspring.append(x)\n",
        "        \n",
        "        rand1= np.random.randint(0, len(dataset))\n",
        "        rand2= np.random.randint(rand1, len(dataset))\n",
        "        x=population[i].copy()\n",
        "        x[0:(len(dataset)-rand2)]= population[i][rand2:].copy()\n",
        "        x[(len(dataset)-rand2):(len(dataset)-rand2)+(rand2-rand1)]= population[i][rand1:rand2].copy()\n",
        "        x[(len(dataset)-rand2)+(rand2-rand1):]= population[i][0:rand1].copy()\n",
        "        rad= np.random.rand()\n",
        "        if (rad<0.1):\n",
        "            x=mutation(dataset, x)\n",
        "        offspring.append(x)\n",
        "        \n",
        "    return offspring"
      ],
      "execution_count": 11,
      "outputs": []
    },
    {
      "cell_type": "markdown",
      "metadata": {
        "id": "PEvxq7xBBHMn"
      },
      "source": [
        "**Genetic Algorithm**"
      ]
    },
    {
      "cell_type": "code",
      "metadata": {
        "id": "HRzoW7HK_AVN",
        "colab": {
          "base_uri": "https://localhost:8080/"
        },
        "outputId": "ac2cbcbf-16d0-4424-9b9a-1da51a3c7aaa"
      },
      "source": [
        "start_time= time.clock()\n",
        "sol_glo= 10000000000000\n",
        "for r in range(10):\n",
        "    rng = default_rng()\n",
        "    population=[]\n",
        "    for i in range(10):\n",
        "        numbers = np.array(rng.choice(len(dataset), size=len(dataset), replace=False))\n",
        "        population.append(numbers)\n",
        "\n",
        "    for j in range(10):\n",
        "        cost= []\n",
        "        for i in range(len(population)):\n",
        "            Scheduled= dataset[\"PilotOrderTime\"].copy()\n",
        "            cost.append(Fitness(dataset,population[i])[0])\n",
        "\n",
        "        sol_loc= min(cost)\n",
        "        if sol_loc<= sol_glo:\n",
        "            sol_glo= sol_loc\n",
        "            sol_index= cost.index(min(cost))\n",
        "            sol= population[sol_index]\n",
        "            final_scheme= Fitness(dataset,population[sol_index])[1]\n",
        "\n",
        "        a= heapq.nsmallest(4, ((k, yy) for yy, k in enumerate(cost)))\n",
        "        Z=[]\n",
        "        for i in range(len(a)):\n",
        "            Z.append(population[a[i][1]])\n",
        "\n",
        "        Q= crossover(dataset, Z)   \n",
        "        for i in range(2):\n",
        "            Q.append(Z[i])\n",
        "\n",
        "duration= time.clock()- start_time"
      ],
      "execution_count": 12,
      "outputs": [
        {
          "output_type": "stream",
          "text": [
            "/usr/local/lib/python3.7/dist-packages/ipykernel_launcher.py:1: DeprecationWarning: time.clock has been deprecated in Python 3.3 and will be removed from Python 3.8: use time.perf_counter or time.process_time instead\n",
            "  \"\"\"Entry point for launching an IPython kernel.\n",
            "/usr/local/lib/python3.7/dist-packages/ipykernel_launcher.py:32: DeprecationWarning: time.clock has been deprecated in Python 3.3 and will be removed from Python 3.8: use time.perf_counter or time.process_time instead\n"
          ],
          "name": "stderr"
        }
      ]
    },
    {
      "cell_type": "code",
      "metadata": {
        "id": "iQk9tErm74Cy",
        "colab": {
          "base_uri": "https://localhost:8080/"
        },
        "outputId": "72fd64e0-7b3e-4f85-d7f8-d35f8f6682e5"
      },
      "source": [
        "print(duration)"
      ],
      "execution_count": 13,
      "outputs": [
        {
          "output_type": "stream",
          "text": [
            "32.805688\n"
          ],
          "name": "stdout"
        }
      ]
    },
    {
      "cell_type": "code",
      "metadata": {
        "colab": {
          "base_uri": "https://localhost:8080/"
        },
        "id": "G5xW3AdHR29b",
        "outputId": "8b1575a9-e96e-4605-db52-8bd76c7a3d3d"
      },
      "source": [
        "print(Scheduled[1])"
      ],
      "execution_count": 14,
      "outputs": [
        {
          "output_type": "stream",
          "text": [
            "1533081660.0\n"
          ],
          "name": "stdout"
        }
      ]
    },
    {
      "cell_type": "code",
      "metadata": {
        "id": "NSCzP7891Kcs",
        "colab": {
          "base_uri": "https://localhost:8080/",
          "height": 136
        },
        "outputId": "8e77ddca-39cb-4af5-d6f8-8e46420b730c"
      },
      "source": [
        "import datetime\n",
        "timestamp = .apply(datetime.datetime.fromtimestamp)\n",
        "print(timestamp)"
      ],
      "execution_count": 15,
      "outputs": [
        {
          "output_type": "error",
          "ename": "SyntaxError",
          "evalue": "ignored",
          "traceback": [
            "\u001b[0;36m  File \u001b[0;32m\"<ipython-input-15-6101b11123a4>\"\u001b[0;36m, line \u001b[0;32m2\u001b[0m\n\u001b[0;31m    timestamp = .apply(datetime.datetime.fromtimestamp)\u001b[0m\n\u001b[0m                ^\u001b[0m\n\u001b[0;31mSyntaxError\u001b[0m\u001b[0;31m:\u001b[0m invalid syntax\n"
          ]
        }
      ]
    },
    {
      "cell_type": "code",
      "metadata": {
        "colab": {
          "base_uri": "https://localhost:8080/"
        },
        "id": "0U0CWfImrzDf",
        "outputId": "ae0072e8-0e82-463e-e41e-36fd238d5ef6"
      },
      "source": [
        "print(dataset[\"PilotOrderTime\"][15])"
      ],
      "execution_count": 16,
      "outputs": [
        {
          "output_type": "stream",
          "text": [
            "1533103200.0\n"
          ],
          "name": "stdout"
        }
      ]
    },
    {
      "cell_type": "code",
      "metadata": {
        "id": "FyIrZL4KnIU9",
        "colab": {
          "base_uri": "https://localhost:8080/"
        },
        "outputId": "ba485831-e7f2-476b-d3f8-41062a05811a"
      },
      "source": [
        "print(sol_glo)\n",
        "print(sol)\n",
        "print(dataset[\"PilotOrderTime\"][7])\n",
        "for var in final_scheme:\n",
        "    print(f\"{var.name}: {var.value()}\")"
      ],
      "execution_count": 17,
      "outputs": [
        {
          "output_type": "stream",
          "text": [
            "2820.0\n",
            "[17  5 15  2  9 12  1 10 18 16 11  0 13  3 14 19  4  6  7  8]\n",
            "1533090600.0\n",
            "Scheduled_0: 1533081700.0\n",
            "Scheduled_1: 1533081700.0\n",
            "Scheduled_10: 1533097800.0\n",
            "Scheduled_11: 1533099600.0\n",
            "Scheduled_12: 1533099600.0\n",
            "Scheduled_13: 1533099600.0\n",
            "Scheduled_14: 1533103200.0\n",
            "Scheduled_15: 1533103700.0\n",
            "Scheduled_16: 1533105200.0\n",
            "Scheduled_17: 1533105000.0\n",
            "Scheduled_18: 1533105000.0\n",
            "Scheduled_19: 1533108600.0\n",
            "Scheduled_2: 1533081700.0\n",
            "Scheduled_3: 1533084400.0\n",
            "Scheduled_4: 1533084400.0\n",
            "Scheduled_5: 1533085200.0\n",
            "Scheduled_6: 1533088800.0\n",
            "Scheduled_7: 1533090600.0\n",
            "Scheduled_8: 1533090600.0\n",
            "Scheduled_9: 1533097800.0\n",
            "x0: 0.0\n",
            "x1: 0.0\n",
            "x10: 1.0\n",
            "x11: 0.0\n",
            "x12: 1.0\n",
            "x13: 0.0\n",
            "x14: 0.0\n",
            "x15: 0.0\n",
            "x16: 0.0\n",
            "x17: 0.0\n",
            "x18: 0.0\n",
            "x19: 0.0\n",
            "x2: 0.0\n",
            "x20: 0.0\n",
            "x21: 0.0\n",
            "x22: 0.0\n",
            "x23: 1.0\n",
            "x24: 1.0\n",
            "x25: 1.0\n",
            "x26: 1.0\n",
            "x27: 1.0\n",
            "x28: 0.0\n",
            "x29: 0.0\n",
            "x3: 0.0\n",
            "x30: 0.0\n",
            "x31: 0.0\n",
            "x4: 0.0\n",
            "x5: 1.0\n",
            "x6: 1.0\n",
            "x7: 0.0\n",
            "x8: 1.0\n",
            "x9: 1.0\n",
            "y0: 1.0\n",
            "y1: 1.0\n",
            "y10: 1.0\n",
            "y11: 0.0\n",
            "y12: 1.0\n",
            "y13: 1.0\n",
            "y14: 1.0\n",
            "y15: 1.0\n",
            "y16: 1.0\n",
            "y17: 1.0\n",
            "y18: 1.0\n",
            "y19: 1.0\n",
            "y2: 1.0\n",
            "y3: 0.0\n",
            "y4: 1.0\n",
            "y5: 1.0\n",
            "y6: 0.0\n",
            "y7: 1.0\n",
            "y8: 1.0\n",
            "y9: 1.0\n"
          ],
          "name": "stdout"
        }
      ]
    },
    {
      "cell_type": "code",
      "metadata": {
        "colab": {
          "base_uri": "https://localhost:8080/"
        },
        "id": "SareJEM6x6oT",
        "outputId": "6e136fbf-085c-4462-9f14-4bdb8e22b49f"
      },
      "source": [
        "import datetime\n",
        "datetime.datetime.fromtimestamp(1533086200.0)"
      ],
      "execution_count": null,
      "outputs": [
        {
          "output_type": "execute_result",
          "data": {
            "text/plain": [
              "datetime.datetime(2018, 8, 1, 1, 16, 40)"
            ]
          },
          "metadata": {
            "tags": []
          },
          "execution_count": 50
        }
      ]
    },
    {
      "cell_type": "code",
      "metadata": {
        "id": "sy2h_2Xyr9FK",
        "colab": {
          "base_uri": "https://localhost:8080/"
        },
        "outputId": "a620e4a7-5ecd-4b11-8735-5302a367db55"
      },
      "source": [
        "start_time= time.clock()\n",
        "from itertools import permutations \n",
        "l = list(permutations(range(0, 10))) \n",
        "print(l[1])\n",
        "print(population[1])\n",
        "duration1= time.clock()- start_time"
      ],
      "execution_count": 18,
      "outputs": [
        {
          "output_type": "stream",
          "text": [
            "/usr/local/lib/python3.7/dist-packages/ipykernel_launcher.py:1: DeprecationWarning: time.clock has been deprecated in Python 3.3 and will be removed from Python 3.8: use time.perf_counter or time.process_time instead\n",
            "  \"\"\"Entry point for launching an IPython kernel.\n"
          ],
          "name": "stderr"
        },
        {
          "output_type": "stream",
          "text": [
            "(0, 1, 2, 3, 4, 5, 6, 7, 9, 8)\n",
            "[11  2 18  1 17 10  4  8 16 14 19  9 13  5  6 15  3  0  7 12]\n"
          ],
          "name": "stdout"
        },
        {
          "output_type": "stream",
          "text": [
            "/usr/local/lib/python3.7/dist-packages/ipykernel_launcher.py:6: DeprecationWarning: time.clock has been deprecated in Python 3.3 and will be removed from Python 3.8: use time.perf_counter or time.process_time instead\n",
            "  \n"
          ],
          "name": "stderr"
        }
      ]
    },
    {
      "cell_type": "code",
      "metadata": {
        "id": "QN3wPG9NxVZW",
        "colab": {
          "base_uri": "https://localhost:8080/",
          "height": 136
        },
        "outputId": "4826c7f4-20c0-4735-bbd4-fe9a943a885c"
      },
      "source": [
        "cost= 100000000\n",
        "axe=0\n",
        "for i in range(len(l)):\n",
        "    Scheduled= dataset[\"PilotOrderTime\"].copy()\n",
        "    axe=Fitness(dataset,l[i])[0]\n",
        "    if axe< cost:\n",
        "        cost=axe\n",
        "        sol_index= cost.index(min(cost))\n",
        "            sol= population[sol_index]\n",
        "            final_scheme= Fitness(dataset,population[sol_index])[1]\n",
        "\n",
        "\n",
        "duration2= time.clock()- start_time"
      ],
      "execution_count": 19,
      "outputs": [
        {
          "output_type": "error",
          "ename": "IndentationError",
          "evalue": "ignored",
          "traceback": [
            "\u001b[0;36m  File \u001b[0;32m\"<ipython-input-19-08de0d321393>\"\u001b[0;36m, line \u001b[0;32m9\u001b[0m\n\u001b[0;31m    sol= population[sol_index]\u001b[0m\n\u001b[0m    ^\u001b[0m\n\u001b[0;31mIndentationError\u001b[0m\u001b[0;31m:\u001b[0m unexpected indent\n"
          ]
        }
      ]
    },
    {
      "cell_type": "code",
      "metadata": {
        "id": "LUHL5yB_xtkn",
        "colab": {
          "base_uri": "https://localhost:8080/"
        },
        "outputId": "7a7f74ee-1e9e-4d00-8b22-40c654478403"
      },
      "source": [
        "print(cost)\n",
        "print(time.clock()-start_time)"
      ],
      "execution_count": 20,
      "outputs": [
        {
          "output_type": "stream",
          "text": [
            "[2820.0, 2820.0, 2820.0, 2820.0, 2820.0, 2820.0, 2820.0, 2820.0, 2820.0, 2820.0]\n",
            "1.1049219999999949\n"
          ],
          "name": "stdout"
        },
        {
          "output_type": "stream",
          "text": [
            "/usr/local/lib/python3.7/dist-packages/ipykernel_launcher.py:2: DeprecationWarning: time.clock has been deprecated in Python 3.3 and will be removed from Python 3.8: use time.perf_counter or time.process_time instead\n",
            "  \n"
          ],
          "name": "stderr"
        }
      ]
    }
  ]
}