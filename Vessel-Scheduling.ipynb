{
  "nbformat": 4,
  "nbformat_minor": 0,
  "metadata": {
    "colab": {
      "name": "GA_Restriction2&3.ipynb",
      "provenance": [],
      "collapsed_sections": [],
      "authorship_tag": "ABX9TyP3fuK/77IjuX2GG1skWiFA"
    },
    "kernelspec": {
      "name": "python3",
      "display_name": "Python 3"
    }
  },
  "cells": [
    {
      "cell_type": "markdown",
      "metadata": {
        "id": "V0-RQutkC0ZI"
      },
      "source": [
        "# *Install and Import Packages*"
      ]
    },
    {
      "cell_type": "code",
      "metadata": {
        "id": "BQNa9w3xKVHw",
        "colab": {
          "base_uri": "https://localhost:8080/"
        },
        "outputId": "dde9a44f-fec0-4f0d-f1ea-d0c4e8defdfb"
      },
      "source": [
        "pip install pulp"
      ],
      "execution_count": 1,
      "outputs": [
        {
          "output_type": "stream",
          "name": "stdout",
          "text": [
            "Requirement already satisfied: pulp in /usr/local/lib/python3.7/dist-packages (2.5.1)\n"
          ]
        }
      ]
    },
    {
      "cell_type": "code",
      "metadata": {
        "id": "ML-kUgSACxLJ"
      },
      "source": [
        "import pandas as pd\n",
        "import numpy as np\n",
        "from datetime import datetime\n",
        "from numpy.random import default_rng\n",
        "import time\n",
        "import heapq\n",
        "from pulp import GLPK\n",
        "from pulp import LpMinimize, LpProblem, LpStatus, lpSum, LpVariable"
      ],
      "execution_count": 2,
      "outputs": []
    },
    {
      "cell_type": "markdown",
      "metadata": {
        "id": "8xZYb_i-DBck"
      },
      "source": [
        "# *change date to number*"
      ]
    },
    {
      "cell_type": "code",
      "metadata": {
        "id": "mhVM8n0PDISM"
      },
      "source": [
        "# It is necessary to change the date column to number for calculation\n",
        "def TimetoNum(x):\n",
        "    \"\"\"\n",
        "    it Convert the time column to number for easier analysis.\n",
        "    \n",
        "    Argument:\n",
        "    x -- Name of the date coulum in the data which needs to change to number.\n",
        "        \n",
        "    Returns:\n",
        "    y -- A list of number\n",
        "    \"\"\"\n",
        "    # Change it from format '%m/%d/%Y %H:%M' to format '%Y-%m-%d %H:%M' then convert it to number\n",
        "    utc_time = datetime.strptime(x, '%m/%d/%Y %H:%M')\n",
        "    x = datetime.strftime(utc_time, '%Y-%m-%d %H:%M')\n",
        "    y = datetime.fromisoformat(x).timestamp()\n",
        "    return y"
      ],
      "execution_count": 3,
      "outputs": []
    },
    {
      "cell_type": "markdown",
      "metadata": {
        "id": "RaNX4YQx4lDO"
      },
      "source": [
        "# *Fitness Function*"
      ]
    },
    {
      "cell_type": "code",
      "metadata": {
        "id": "nVAsGLg5nCsj"
      },
      "source": [
        "def Fitness(dataset, individual):\n",
        "        \"\"\"\n",
        "        It calculates the fitness of each individual.\n",
        "        \n",
        "        Arguments:\n",
        "        dataset -- Clean dataset of vessels which are going to schedule\n",
        "        individual -- One individual of the population\n",
        "        \n",
        "        Returns:\n",
        "        fitness -- The fitness value for the input individual\n",
        "        scheme -- The optimum scheduling scheme for the individual according to the input individual\n",
        "        \"\"\"\n",
        "        # Define the optimization model\n",
        "        model = LpProblem(name=\"small-problem\", sense=LpMinimize)  \n",
        "\n",
        "        # Define the scheduled scheme variable.\n",
        "        Scheduled = {i: LpVariable(name=('Scheduled %i' % i), \n",
        "                                lowBound=dataset[\"PilotOrderTime\"][i]) for i in range(len(dataset))}\n",
        "\n",
        "        # Define the binary variables for activating one restiction between two contradict restrictions at the same time\n",
        "        x = {j: LpVariable(name=f\"x{j}\", lowBound=0, upBound = 1, cat=\"Integer\") for j in range(100)}\n",
        "        y = {o: LpVariable(name=f\"y{o}\", lowBound=0, upBound = 1, cat=\"Integer\") for o in range(100)}\n",
        "\n",
        "        # Axuiliary variables and parameters\n",
        "        l=0            \n",
        "        k=0\n",
        "        kk=0\n",
        "        m=10000000\n",
        "\n",
        "        # Apply and check all the restrictions in the model.\n",
        "        for i in individual:\n",
        "            model += Scheduled[i]>= dataset[\"PilotOrderTime\"][i]\n",
        "            model += Scheduled[i]<= 1533083200+m*y[kk]\n",
        "            model += Scheduled[i]>= 1533084400+m*(y[kk]-1)\n",
        "            kk=kk+1\n",
        "            l=l+1\n",
        "            if (dataset[\"d4\"][i]>0):\n",
        "                if ((dataset[\"Type\"][i]== 2 and dataset[\"Beam\"][i]>=120)or (dataset[\"Beam\"][i]>=150)):\n",
        "                    model += Scheduled[i]>= 1533104500\n",
        "                    model += Scheduled[i]<= 1533146400\n",
        "        \n",
        "            for j in individual[l:]:\n",
        "                if (dataset[\"Direction\"][i]==1 and (dataset[\"Direction\"][j]!= dataset[\"Direction\"][i])):\n",
        "                    if ((dataset[\"Beam\"][i]+dataset[\"Beam\"][j]>= 272) and (dataset[\"d2\"][i]>0 and dataset[\"d2\"][j]> dataset[\"d2\"][i])):\n",
        "                        LB1= Scheduled[i]+ (dataset[\"d1\"][i]/dataset[\"Speed\"][i])*60*60\n",
        "                        LB2= (dataset[\"d2\"][j]/dataset[\"Speed\"][j])*60*60\n",
        "                        UB1= LB1+ (dataset[\"d2\"][i]/dataset[\"Speed\"][i])*60*60\n",
        "                        UB2= ((dataset[\"d2\"][j]-dataset[\"d2\"][i])/dataset[\"Speed\"][j])*60*60\n",
        "                        model+= Scheduled[j]<=(LB1-LB2)+m*x[k] \n",
        "                        model+= Scheduled[j]>=(UB1-UB2)+m*(x[k]-1)\n",
        "                        k=k+1\n",
        "                                                \n",
        "                        \n",
        "                    if ((dataset[\"Beam\"][i]+dataset[\"Beam\"][j]>= 272) and (dataset[\"d2\"][i]>0 and dataset[\"d2\"][j]<= dataset[\"d2\"][i])):\n",
        "                        LB1= Scheduled[i]+(dataset[\"d1\"][i]/dataset[\"Speed\"][i])*60*60\n",
        "                        LB2= (dataset[\"d2\"][j]/dataset[\"Speed\"][j])*60*60\n",
        "                        UB1= LB1+ (dataset[\"d2\"][j]/dataset[\"Speed\"][i])*60*60\n",
        "                        UB2= 0\n",
        "                        model+= Scheduled[j]<=(LB1-LB2)+m*x[k] \n",
        "                        model+= Scheduled[j]>=(UB1-UB2)+m*(x[k]-1)\n",
        "                        k=k+1\n",
        "                        \n",
        "                    if ((dataset[\"Beam\"][i]>=106 or dataset[\"Beam\"][j]>= 106) and (dataset[\"d4\"][i]>0 and dataset[\"d4\"][j]> dataset[\"d4\"][i])):\n",
        "                        LB1= Scheduled[i]+ (dataset[\"d3\"][i]/dataset[\"Speed\"][i])*60*60\n",
        "                        LB2= (dataset[\"d4\"][j]/dataset[\"Speed\"][j])*60*60\n",
        "                        UB1= LB1+ (dataset[\"d4\"][i]/dataset[\"Speed\"][i])*60*60\n",
        "                        UB2= ((dataset[\"d4\"][j]-dataset[\"d4\"][i])/dataset[\"Speed\"][j])*60*60\n",
        "                        model+= Scheduled[j]<=(LB1-LB2)+m*x[k] \n",
        "                        model+= Scheduled[j]>=(UB1-UB2)+m*(x[k]-1)\n",
        "                        k=k+1\n",
        "                                                \n",
        "                        \n",
        "                    if ((dataset[\"Beam\"][i]>=106 or dataset[\"Beam\"][j]>= 106) and (dataset[\"d4\"][i]>0 and dataset[\"d4\"][j]<= dataset[\"d4\"][i])):\n",
        "                        LB1= Scheduled[i]+(dataset[\"d3\"][i]/dataset[\"Speed\"][i])*60*60\n",
        "                        LB2= (dataset[\"d4\"][j]/dataset[\"Speed\"][j])*60*60\n",
        "                        UB1= LB1+ (dataset[\"d4\"][j]/dataset[\"Speed\"][i])*60*60\n",
        "                        UB2= 0\n",
        "                        model+= Scheduled[j]<=(LB1-LB2)+m*x[k] \n",
        "                        model+= Scheduled[j]>=(UB1-UB2)+m*(x[k]-1)\n",
        "                        k=k+1     \n",
        "                                \n",
        "                if (dataset[\"Direction\"][i]==0 and (dataset[\"Direction\"][j]!= dataset[\"Direction\"][i])):\n",
        "                    if ((dataset[\"Beam\"][i]+dataset[\"Beam\"][j]>= 272) and (dataset[\"d2\"][i]>0 and dataset[\"d2\"][j]> dataset[\"d2\"][i])):\n",
        "                        LB1= Scheduled[i]\n",
        "                        LB2= ((dataset[\"d1\"][j]+dataset[\"d2\"][i])/dataset[\"Speed\"][j])*60*60\n",
        "                        UB1= LB1+ (dataset[\"d2\"][i]/dataset[\"Speed\"][i])*60*60\n",
        "                        UB2= (dataset[\"d1\"][j]/dataset[\"Speed\"][j])*60*60\n",
        "                        model+= Scheduled[j]<=(LB1-LB2)+m*x[k] \n",
        "                        model+= Scheduled[j]>=(UB1-UB2)+m*(x[k]-1)\n",
        "                        k=k+1\n",
        "                                \n",
        "                        \n",
        "                    if ((dataset[\"Beam\"][i]+dataset[\"Beam\"][j]>= 272) and (dataset[\"d2\"][i]>0 and dataset[\"d2\"][j]<= dataset[\"d2\"][i])):\n",
        "                        LB1= Scheduled[i]+((dataset[\"d2\"][i]-dataset[\"d2\"][j])/dataset[\"Speed\"][i])*60*60\n",
        "                        LB2= ((dataset[\"d1\"][j]+dataset[\"d2\"][j])/dataset[\"Speed\"][j])*60*60\n",
        "                        UB1= LB1+ (dataset[\"d2\"][j]/dataset[\"Speed\"][i])*60*60\n",
        "                        UB2= (dataset[\"d1\"][j]/dataset[\"Speed\"][j])*60*60\n",
        "                        model+= Scheduled[j]<=(LB1-LB2)+m*x[k] \n",
        "                        model+= Scheduled[j]>=(UB1-UB2)+m*(x[k]-1)\n",
        "                        k=k+1\n",
        "\n",
        "                    if ((dataset[\"Beam\"][i]>=106 or dataset[\"Beam\"][j]>= 106) and (dataset[\"d4\"][i]>0 and dataset[\"d4\"][j]> dataset[\"d4\"][i])):\n",
        "                        LB1= Scheduled[i]\n",
        "                        LB2= ((dataset[\"d3\"][j]+dataset[\"d4\"][i])/dataset[\"Speed\"][j])*60*60\n",
        "                        UB1= LB1+ (dataset[\"d4\"][i]/dataset[\"Speed\"][i])*60*60\n",
        "                        UB2= (dataset[\"d3\"][j]/dataset[\"Speed\"][j])*60*60\n",
        "                        model+= Scheduled[j]<=(LB1-LB2)+m*x[k] \n",
        "                        model+= Scheduled[j]>=(UB1-UB2)+m*(x[k]-1)\n",
        "                        k=k+1\n",
        "                                \n",
        "                        \n",
        "                    if ((dataset[\"Beam\"][i]>=106 or dataset[\"Beam\"][j]>= 106) and (dataset[\"d4\"][i]>0 and dataset[\"d4\"][j]<= dataset[\"d4\"][i])):\n",
        "                        LB1= Scheduled[i]+((dataset[\"d4\"][i]-dataset[\"d4\"][j])/dataset[\"Speed\"][i])*60*60\n",
        "                        LB2= ((dataset[\"d3\"][j]+dataset[\"d4\"][j])/dataset[\"Speed\"][j])*60*60\n",
        "                        UB1= LB1+ (dataset[\"d4\"][j]/dataset[\"Speed\"][i])*60*60\n",
        "                        UB2= (dataset[\"d3\"][j]/dataset[\"Speed\"][j])*60*60\n",
        "                        model+= Scheduled[j]<=(LB1-LB2)+m*x[k] \n",
        "                        model+= Scheduled[j]>=(UB1-UB2)+m*(x[k]-1)\n",
        "                        k=k+1\n",
        "        \n",
        "        xy= lpSum(Scheduled)\n",
        "        yx= lpSum(dataset[\"PilotOrderTime\"])\n",
        "\n",
        "        # Define the Objective Function.\n",
        "        model += xy-yx\n",
        "\n",
        "        # Solve the optimization model.\n",
        "        status = model.solve()\n",
        "        fitness= model.objective.value()\n",
        "        scheme= model.variables()\n",
        "\n",
        "        return (fitness, scheme)\n"
      ],
      "execution_count": 4,
      "outputs": []
    },
    {
      "cell_type": "markdown",
      "metadata": {
        "id": "T7Boqny1AEXl"
      },
      "source": [
        "# *Mutation*"
      ]
    },
    {
      "cell_type": "code",
      "metadata": {
        "id": "L5LjlG9RAF3Y"
      },
      "source": [
        "def mutation(dataset, individual):\n",
        "        \"\"\"\n",
        "        It performs the mutation technique on individuals\n",
        "        \n",
        "        Argument:\n",
        "        dataset -- Clean dataset of vessels which are going to schedule\n",
        "        individual -- One individual of the population\n",
        "        \n",
        "        Returns:\n",
        "        y -- Individual after mutation\n",
        "        \"\"\"\n",
        "        rand1= np.random.randint(0, len(dataset))\n",
        "        rand2= np.random.randint(rand1, len(dataset))\n",
        "        y= individual.copy()\n",
        "        y[rand1]= individual[rand2].copy()\n",
        "        y[rand2]= individual[rand1].copy()\n",
        "        return y"
      ],
      "execution_count": 5,
      "outputs": []
    },
    {
      "cell_type": "markdown",
      "metadata": {
        "id": "-NfXMUIx-fVc"
      },
      "source": [
        "# *Crossover*"
      ]
    },
    {
      "cell_type": "code",
      "metadata": {
        "id": "yZP-jar1WGAG"
      },
      "source": [
        "def crossover(dataset, selection):\n",
        "        \"\"\"\n",
        "        It performs two-point crossover technique.\n",
        "        \n",
        "        Argument:\n",
        "        dataset -- Clean dataset of vessels which are going to schedule.\n",
        "        selection -- Two individuals for crossover techniques\n",
        "        \n",
        "        Returns:\n",
        "        offspring -- New offsprings\n",
        "        \"\"\"\n",
        "        # First Offspring\n",
        "        offspring=[]\n",
        "\n",
        "        rand1= np.random.randint(1, len(dataset)-1)\n",
        "        rand2= np.random.randint(rand1+1, len(dataset))\n",
        "\n",
        "        y= selection[0].copy()\n",
        "        y[0:(len(dataset)-rand2)]= selection[1][rand2:]\n",
        "        y[len(dataset)-rand1:]= selection[1][:rand1]\n",
        "\n",
        "        ind = 0\n",
        "        for i in range (20):\n",
        "            if ((i not in selection[1][rand2:]) and (i not in selection[1][:rand1])):\n",
        "                y[(len(dataset)-rand2)+ind] = i\n",
        "                ind += 1\n",
        "\n",
        "        offspring.append(y)\n",
        "\n",
        "        # Second Offspring\n",
        "\n",
        "        y= selection[1].copy()\n",
        "        y[0:(len(dataset)-rand2)]= selection[0][rand2:]\n",
        "        y[len(dataset)-rand1:]= selection[0][:rand1]\n",
        "\n",
        "        ind = 0      \n",
        "        for i in range (20):\n",
        "            if ((i not in selection[0][rand2:]) and (i not in selection[0][:rand1])):\n",
        "                y[(len(dataset)-rand2)+ind] = i\n",
        "                ind += 1\n",
        "                        \n",
        "        offspring.append(y)\n",
        "\n",
        "        return offspring\n"
      ],
      "execution_count": 6,
      "outputs": []
    },
    {
      "cell_type": "markdown",
      "metadata": {
        "id": "DvV33oPgCrJd"
      },
      "source": [
        "# *Import Data*"
      ]
    },
    {
      "cell_type": "code",
      "metadata": {
        "id": "9Udb73ik5RkE"
      },
      "source": [
        "dataset = pd.read_csv('Real_20.csv')"
      ],
      "execution_count": 7,
      "outputs": []
    },
    {
      "cell_type": "markdown",
      "metadata": {
        "id": "aEUwqRYS_3mJ"
      },
      "source": [
        "# *Change date to number*"
      ]
    },
    {
      "cell_type": "code",
      "metadata": {
        "id": "uQvClmi7JNXh"
      },
      "source": [
        "dataset[\"PilotOrderTime\"]=dataset[\"PilotOrderTime\"].apply(TimetoNum)"
      ],
      "execution_count": 8,
      "outputs": []
    },
    {
      "cell_type": "markdown",
      "metadata": {
        "id": "PEvxq7xBBHMn"
      },
      "source": [
        "# *Genetic Algorithm*"
      ]
    },
    {
      "cell_type": "code",
      "metadata": {
        "id": "it2lbW43drs1"
      },
      "source": [
        "start_time= time.clock()\n",
        "sol_glo= 10000000000000\n",
        "\"\"\" Genetic algorithm is performed in this section and the best found solution is presented. \"\"\"\n",
        "\n",
        "# Population Generation\n",
        "for r in range(5):\n",
        "    rng = default_rng()\n",
        "    population=[]\n",
        "    for i in range(10):\n",
        "        numbers = np.array(rng.choice(len(dataset), size=len(dataset), replace=False))\n",
        "        population.append(numbers)\n",
        "\n",
        "    \n",
        "    for j in range(5):\n",
        "        # Cost of individuals are calculated.\n",
        "        cost= []\n",
        "        for i in range(len(population)):\n",
        "            Scheduled= dataset[\"PilotOrderTime\"].copy()\n",
        "            cost.append(Fitness(dataset,population[i])[0])\n",
        "\n",
        "        # The minimum cost is found.\n",
        "        sol_loc= min(cost)\n",
        "        if sol_loc<= sol_glo:\n",
        "            sol_glo= sol_loc\n",
        "            sol_index= cost.index(min(cost))\n",
        "            sol= population[sol_index]\n",
        "            final_scheme= Fitness(dataset,population[sol_index])[1]\n",
        "        \n",
        "        # Roulette Wheel\n",
        "        reciprocal = []\n",
        "        total = 0\n",
        "        for i in range(len(population)):\n",
        "            total += Fitness(dataset, population[i])[0]\n",
        "\n",
        "        for pop in range(len(population)):\n",
        "            reciprocal.append((Fitness(dataset,population[pop])[0])/total)  \n",
        "        gg= np.cumsum(reciprocal)\n",
        "        \n",
        "        # Selection and crossover\n",
        "        Q= []\n",
        "        for zz in range(4):\n",
        "            selection = []\n",
        "            cross = []\n",
        "            for j in range(2):\n",
        "                a = np.random.rand()\n",
        "                for i in range(10):\n",
        "                    if a <= gg[i]:\n",
        "                        selection.append(list(population[i]))\n",
        "                        break\n",
        "            cross = crossover(dataset, selection)\n",
        "            Q.append(cross[0])\n",
        "            Q.append(cross[1])\n",
        "\n",
        "        # The best two individual are kept.\n",
        "        a= heapq.nsmallest(2, ((k, yy) for yy, k in enumerate(cost)))\n",
        "        Z=[]\n",
        "        for i in range(len(a)):\n",
        "            Z.append(list(population[a[i][1]]))\n",
        "\n",
        "        for i in range(2):\n",
        "            Q.append(Z[i])\n",
        "\n",
        "        population = Q\n",
        "\n",
        "        \n",
        "\n",
        "duration= time.clock()- start_time"
      ],
      "execution_count": null,
      "outputs": []
    },
    {
      "cell_type": "markdown",
      "metadata": {
        "id": "UUECrXrgGlES"
      },
      "source": [
        "# *Final Solution*"
      ]
    },
    {
      "cell_type": "code",
      "metadata": {
        "id": "FyIrZL4KnIU9"
      },
      "source": [
        "\"\"\" The final Solution \"\"\"\n",
        "\n",
        "print(sol_glo)\n",
        "print(sol)\n",
        "print(dataset[\"PilotOrderTime\"][7])\n",
        "for var in final_scheme:\n",
        "    print(f\"{var.name}: {var.value()}\")"
      ],
      "execution_count": null,
      "outputs": []
    },
    {
      "cell_type": "code",
      "metadata": {
        "id": "iQk9tErm74Cy",
        "colab": {
          "base_uri": "https://localhost:8080/"
        },
        "outputId": "9806f211-ab4e-430a-a5c3-801faa156c99"
      },
      "source": [
        "print(duration)"
      ],
      "execution_count": 11,
      "outputs": [
        {
          "output_type": "stream",
          "name": "stdout",
          "text": [
            "23.485682999999998\n"
          ]
        }
      ]
    }
  ]
}